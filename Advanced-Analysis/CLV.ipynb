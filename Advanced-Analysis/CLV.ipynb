{
 "cells": [
  {
   "cell_type": "markdown",
   "id": "15d78978",
   "metadata": {},
   "source": [
    "[useful link to understand CLV](https://www.shopify.com/ie/blog/what-is-customer-lifetime-value#:~:text=Customer%20lifetime%20value%20(CLV%20or,their%20relationship%20with%20the%20company.)"
   ]
  },
  {
   "cell_type": "code",
   "execution_count": 1,
   "id": "72eb27a6",
   "metadata": {},
   "outputs": [],
   "source": [
    "import clickhouse_connect\n",
    "import pandas as pd"
   ]
  },
  {
   "cell_type": "code",
   "execution_count": 2,
   "id": "306ea5e4",
   "metadata": {},
   "outputs": [],
   "source": [
    "client = clickhouse_connect.get_client(host='localhost',port=\"18123\")"
   ]
  },
  {
   "cell_type": "code",
   "execution_count": 121,
   "id": "7da8755f",
   "metadata": {},
   "outputs": [
    {
     "name": "stdout",
     "output_type": "stream",
     "text": [
      "baskets\n",
      "customers\n",
      "products\n"
     ]
    }
   ],
   "source": [
    "response=client.command('show tables')\n",
    "print(response)"
   ]
  },
  {
   "cell_type": "code",
   "execution_count": 120,
   "id": "c95df384",
   "metadata": {},
   "outputs": [
    {
     "data": {
      "text/plain": [
       "<clickhouse_connect.driver.summary.QuerySummary at 0x7f392b688280>"
      ]
     },
     "execution_count": 120,
     "metadata": {},
     "output_type": "execute_result"
    }
   ],
   "source": [
    "client.command('drop table sales_mv')"
   ]
  },
  {
   "cell_type": "code",
   "execution_count": 126,
   "id": "e471dff5",
   "metadata": {},
   "outputs": [],
   "source": [
    "query=\"\"\"\n",
    "CREATE TABLE sales\n",
    "(\n",
    "    `customer_id` UInt32,\n",
    "    `basket_date` Date,\n",
    "    `sales` AggregateFunction(sum, Decimal(9, 2))\n",
    ")\n",
    "ENGINE = AggregatingMergeTree\n",
    "ORDER BY (customer_id, basket_date)\n",
    "\"\"\""
   ]
  },
  {
   "cell_type": "code",
   "execution_count": 127,
   "id": "049f1f27",
   "metadata": {},
   "outputs": [],
   "source": [
    "join=\"\"\"CREATE MATERIALIZED VIEW sales_mv\n",
    "TO sales\n",
    "AS\n",
    "SELECT \n",
    "    customer_id,\n",
    "    b.basket_date AS basket_date,\n",
    "    sumState( taxful_price * basket_count ) AS sales   \n",
    "FROM \n",
    "    baskets as b Join products as p \n",
    "    on b.product_id=p.product_id\n",
    "GROUP BY\n",
    "    customer_id,\n",
    "    basket_date\n",
    "\n",
    "\"\"\""
   ]
  },
  {
   "cell_type": "code",
   "execution_count": 128,
   "id": "3647cbed",
   "metadata": {},
   "outputs": [],
   "source": [
    "populating=\"\"\"INSERT INTO sales\n",
    "SELECT \n",
    "    customer_id,\n",
    "    b.basket_date AS basket_date,\n",
    "    sumState( taxful_price * basket_count ) AS sales   \n",
    "FROM \n",
    "    baskets as b Join products as p \n",
    "    on b.product_id=p.product_id\n",
    "GROUP BY\n",
    "    customer_id,\n",
    "    basket_date\n",
    "\"\"\""
   ]
  },
  {
   "cell_type": "code",
   "execution_count": 129,
   "id": "07f061e9",
   "metadata": {},
   "outputs": [
    {
     "name": "stdout",
     "output_type": "stream",
     "text": [
      "<clickhouse_connect.driver.summary.QuerySummary object at 0x7f392b740100>\n"
     ]
    }
   ],
   "source": [
    "response=client.command(query)\n",
    "print(response)"
   ]
  },
  {
   "cell_type": "code",
   "execution_count": 130,
   "id": "3dbfa02d",
   "metadata": {},
   "outputs": [
    {
     "name": "stdout",
     "output_type": "stream",
     "text": [
      "<clickhouse_connect.driver.summary.QuerySummary object at 0x7f392b9ac700>\n"
     ]
    }
   ],
   "source": [
    "response=client.command(join)\n",
    "print(response)"
   ]
  },
  {
   "cell_type": "code",
   "execution_count": 131,
   "id": "1d4c956b",
   "metadata": {},
   "outputs": [
    {
     "name": "stdout",
     "output_type": "stream",
     "text": [
      "<clickhouse_connect.driver.summary.QuerySummary object at 0x7f392b68f820>\n"
     ]
    }
   ],
   "source": [
    "response=client.command(populating)\n",
    "print(response)"
   ]
  },
  {
   "cell_type": "code",
   "execution_count": 35,
   "id": "c9d5cbc1",
   "metadata": {},
   "outputs": [
    {
     "data": {
      "text/html": [
       "<div>\n",
       "<style scoped>\n",
       "    .dataframe tbody tr th:only-of-type {\n",
       "        vertical-align: middle;\n",
       "    }\n",
       "\n",
       "    .dataframe tbody tr th {\n",
       "        vertical-align: top;\n",
       "    }\n",
       "\n",
       "    .dataframe thead th {\n",
       "        text-align: right;\n",
       "    }\n",
       "</style>\n",
       "<table border=\"1\" class=\"dataframe\">\n",
       "  <thead>\n",
       "    <tr style=\"text-align: right;\">\n",
       "      <th></th>\n",
       "      <th>base_price</th>\n",
       "      <th>discount_percentage</th>\n",
       "      <th>quantity</th>\n",
       "      <th>manufacturer</th>\n",
       "      <th>tax_amount</th>\n",
       "      <th>product_id</th>\n",
       "      <th>category</th>\n",
       "      <th>sku</th>\n",
       "      <th>taxless_price</th>\n",
       "      <th>unit_discount_amount</th>\n",
       "      <th>min_price</th>\n",
       "      <th>discount_amount</th>\n",
       "      <th>created_on</th>\n",
       "      <th>product_name</th>\n",
       "      <th>price</th>\n",
       "      <th>taxful_price</th>\n",
       "      <th>base_unit_price</th>\n",
       "    </tr>\n",
       "  </thead>\n",
       "  <tbody>\n",
       "    <tr>\n",
       "      <th>0</th>\n",
       "      <td>79.99</td>\n",
       "      <td>20.00</td>\n",
       "      <td>1</td>\n",
       "      <td>nan</td>\n",
       "      <td>0.00</td>\n",
       "      <td>49390</td>\n",
       "      <td>Men's Clothing</td>\n",
       "      <td>ZO0020300203</td>\n",
       "      <td>33.99</td>\n",
       "      <td>0.000</td>\n",
       "      <td>18.01</td>\n",
       "      <td>12.998</td>\n",
       "      <td>2016-12-10 12:50:24</td>\n",
       "      <td>Jersey dress - peacoat</td>\n",
       "      <td>15.00</td>\n",
       "      <td>24.99</td>\n",
       "      <td>154.99</td>\n",
       "    </tr>\n",
       "    <tr>\n",
       "      <th>1</th>\n",
       "      <td>28.99</td>\n",
       "      <td>0.00</td>\n",
       "      <td>1</td>\n",
       "      <td>Tigress Enterprises</td>\n",
       "      <td>0.00</td>\n",
       "      <td>52798</td>\n",
       "      <td>Women's Clothing</td>\n",
       "      <td>ZO0072100721</td>\n",
       "      <td>28.99</td>\n",
       "      <td>0.000</td>\n",
       "      <td>14.49</td>\n",
       "      <td>0.000</td>\n",
       "      <td>2016-12-12 10:37:55</td>\n",
       "      <td>Jumper - peacoat/winter white</td>\n",
       "      <td>28.99</td>\n",
       "      <td>28.99</td>\n",
       "      <td>28.99</td>\n",
       "    </tr>\n",
       "  </tbody>\n",
       "</table>\n",
       "</div>"
      ],
      "text/plain": [
       "  base_price discount_percentage  quantity         manufacturer tax_amount  \\\n",
       "0      79.99               20.00         1                  nan       0.00   \n",
       "1      28.99                0.00         1  Tigress Enterprises       0.00   \n",
       "\n",
       "   product_id          category           sku taxless_price  \\\n",
       "0       49390    Men's Clothing  ZO0020300203         33.99   \n",
       "1       52798  Women's Clothing  ZO0072100721         28.99   \n",
       "\n",
       "  unit_discount_amount min_price discount_amount          created_on  \\\n",
       "0                0.000     18.01          12.998 2016-12-10 12:50:24   \n",
       "1                0.000     14.49           0.000 2016-12-12 10:37:55   \n",
       "\n",
       "                    product_name  price taxful_price base_unit_price  \n",
       "0         Jersey dress - peacoat  15.00        24.99          154.99  \n",
       "1  Jumper - peacoat/winter white  28.99        28.99           28.99  "
      ]
     },
     "execution_count": 35,
     "metadata": {},
     "output_type": "execute_result"
    }
   ],
   "source": [
    "df=client.query_df('SELECT * from products limit 2')\n",
    "df.head()"
   ]
  },
  {
   "cell_type": "code",
   "execution_count": 34,
   "id": "4eaeefdf",
   "metadata": {},
   "outputs": [
    {
     "data": {
      "text/html": [
       "<div>\n",
       "<style scoped>\n",
       "    .dataframe tbody tr th:only-of-type {\n",
       "        vertical-align: middle;\n",
       "    }\n",
       "\n",
       "    .dataframe tbody tr th {\n",
       "        vertical-align: top;\n",
       "    }\n",
       "\n",
       "    .dataframe thead th {\n",
       "        text-align: right;\n",
       "    }\n",
       "</style>\n",
       "<table border=\"1\" class=\"dataframe\">\n",
       "  <thead>\n",
       "    <tr style=\"text-align: right;\">\n",
       "      <th></th>\n",
       "      <th>customer_id</th>\n",
       "      <th>sex</th>\n",
       "      <th>customer_age</th>\n",
       "      <th>tenure</th>\n",
       "    </tr>\n",
       "  </thead>\n",
       "  <tbody>\n",
       "    <tr>\n",
       "      <th>0</th>\n",
       "      <td>2093</td>\n",
       "      <td>male</td>\n",
       "      <td>47</td>\n",
       "      <td>133</td>\n",
       "    </tr>\n",
       "    <tr>\n",
       "      <th>1</th>\n",
       "      <td>12817</td>\n",
       "      <td>male</td>\n",
       "      <td>40</td>\n",
       "      <td>132</td>\n",
       "    </tr>\n",
       "  </tbody>\n",
       "</table>\n",
       "</div>"
      ],
      "text/plain": [
       "   customer_id   sex  customer_age  tenure\n",
       "0         2093  male            47     133\n",
       "1        12817  male            40     132"
      ]
     },
     "execution_count": 34,
     "metadata": {},
     "output_type": "execute_result"
    }
   ],
   "source": [
    "df=client.query_df('SELECT * from customers limit 2')\n",
    "df.head()"
   ]
  },
  {
   "cell_type": "code",
   "execution_count": 183,
   "id": "c74bcbef",
   "metadata": {},
   "outputs": [
    {
     "data": {
      "text/html": [
       "<div>\n",
       "<style scoped>\n",
       "    .dataframe tbody tr th:only-of-type {\n",
       "        vertical-align: middle;\n",
       "    }\n",
       "\n",
       "    .dataframe tbody tr th {\n",
       "        vertical-align: top;\n",
       "    }\n",
       "\n",
       "    .dataframe thead th {\n",
       "        text-align: right;\n",
       "    }\n",
       "</style>\n",
       "<table border=\"1\" class=\"dataframe\">\n",
       "  <thead>\n",
       "    <tr style=\"text-align: right;\">\n",
       "      <th></th>\n",
       "      <th>product_id</th>\n",
       "      <th>customer_id</th>\n",
       "      <th>basket_date</th>\n",
       "      <th>basket_count</th>\n",
       "      <th>taxful_price</th>\n",
       "    </tr>\n",
       "  </thead>\n",
       "  <tbody>\n",
       "    <tr>\n",
       "      <th>0</th>\n",
       "      <td>6896403</td>\n",
       "      <td>4784</td>\n",
       "      <td>2019-05-27</td>\n",
       "      <td>2</td>\n",
       "      <td>28.99</td>\n",
       "    </tr>\n",
       "    <tr>\n",
       "      <th>1</th>\n",
       "      <td>3328663</td>\n",
       "      <td>8314</td>\n",
       "      <td>2019-05-25</td>\n",
       "      <td>2</td>\n",
       "      <td>43.99</td>\n",
       "    </tr>\n",
       "    <tr>\n",
       "      <th>2</th>\n",
       "      <td>3766775</td>\n",
       "      <td>8314</td>\n",
       "      <td>2019-05-25</td>\n",
       "      <td>3</td>\n",
       "      <td>13.99</td>\n",
       "    </tr>\n",
       "    <tr>\n",
       "      <th>3</th>\n",
       "      <td>2268129</td>\n",
       "      <td>8857</td>\n",
       "      <td>2019-05-25</td>\n",
       "      <td>2</td>\n",
       "      <td>50.00</td>\n",
       "    </tr>\n",
       "    <tr>\n",
       "      <th>4</th>\n",
       "      <td>46741621</td>\n",
       "      <td>9273</td>\n",
       "      <td>2019-06-07</td>\n",
       "      <td>2</td>\n",
       "      <td>54.99</td>\n",
       "    </tr>\n",
       "  </tbody>\n",
       "</table>\n",
       "</div>"
      ],
      "text/plain": [
       "   product_id  customer_id basket_date  basket_count taxful_price\n",
       "0     6896403         4784  2019-05-27             2        28.99\n",
       "1     3328663         8314  2019-05-25             2        43.99\n",
       "2     3766775         8314  2019-05-25             3        13.99\n",
       "3     2268129         8857  2019-05-25             2        50.00\n",
       "4    46741621         9273  2019-06-07             2        54.99"
      ]
     },
     "execution_count": 183,
     "metadata": {},
     "output_type": "execute_result"
    }
   ],
   "source": [
    "df=client.query_df('SELECT * from baskets as b Join products as p on b.product_id=p.product_id' )[['product_id','customer_id','basket_date','basket_count','taxful_price']]\n",
    "df.head()"
   ]
  },
  {
   "cell_type": "code",
   "execution_count": 184,
   "id": "e1af7844",
   "metadata": {},
   "outputs": [],
   "source": [
    "df['sales']=df['basket_count']*df['taxful_price']"
   ]
  },
  {
   "cell_type": "code",
   "execution_count": 185,
   "id": "53261f07",
   "metadata": {},
   "outputs": [],
   "source": [
    "grouped=df.groupby(['customer_id'])['sales'].sum()"
   ]
  },
  {
   "cell_type": "code",
   "execution_count": 186,
   "id": "b1f04c94",
   "metadata": {},
   "outputs": [
    {
     "data": {
      "text/html": [
       "<div>\n",
       "<style scoped>\n",
       "    .dataframe tbody tr th:only-of-type {\n",
       "        vertical-align: middle;\n",
       "    }\n",
       "\n",
       "    .dataframe tbody tr th {\n",
       "        vertical-align: top;\n",
       "    }\n",
       "\n",
       "    .dataframe thead th {\n",
       "        text-align: right;\n",
       "    }\n",
       "</style>\n",
       "<table border=\"1\" class=\"dataframe\">\n",
       "  <thead>\n",
       "    <tr style=\"text-align: right;\">\n",
       "      <th></th>\n",
       "      <th>sales</th>\n",
       "    </tr>\n",
       "    <tr>\n",
       "      <th>customer_id</th>\n",
       "      <th></th>\n",
       "    </tr>\n",
       "  </thead>\n",
       "  <tbody>\n",
       "    <tr>\n",
       "      <th>4784</th>\n",
       "      <td>57.98</td>\n",
       "    </tr>\n",
       "    <tr>\n",
       "      <th>8314</th>\n",
       "      <td>129.95</td>\n",
       "    </tr>\n",
       "    <tr>\n",
       "      <th>8857</th>\n",
       "      <td>100.00</td>\n",
       "    </tr>\n",
       "    <tr>\n",
       "      <th>9273</th>\n",
       "      <td>109.98</td>\n",
       "    </tr>\n",
       "    <tr>\n",
       "      <th>11172</th>\n",
       "      <td>169.98</td>\n",
       "    </tr>\n",
       "  </tbody>\n",
       "</table>\n",
       "</div>"
      ],
      "text/plain": [
       "              sales\n",
       "customer_id        \n",
       "4784          57.98\n",
       "8314         129.95\n",
       "8857         100.00\n",
       "9273         109.98\n",
       "11172        169.98"
      ]
     },
     "execution_count": 186,
     "metadata": {},
     "output_type": "execute_result"
    }
   ],
   "source": [
    "gp=grouped.to_frame()\n",
    "gp.head()"
   ]
  },
  {
   "cell_type": "code",
   "execution_count": 187,
   "id": "17b54850",
   "metadata": {},
   "outputs": [
    {
     "data": {
      "text/plain": [
       "sales    21.98\n",
       "Name: 17170040, dtype: object"
      ]
     },
     "execution_count": 187,
     "metadata": {},
     "output_type": "execute_result"
    }
   ],
   "source": [
    "gp.loc[(17170040,)]"
   ]
  },
  {
   "cell_type": "code",
   "execution_count": 182,
   "id": "074a4922",
   "metadata": {},
   "outputs": [
    {
     "data": {
      "text/html": [
       "<div>\n",
       "<style scoped>\n",
       "    .dataframe tbody tr th:only-of-type {\n",
       "        vertical-align: middle;\n",
       "    }\n",
       "\n",
       "    .dataframe tbody tr th {\n",
       "        vertical-align: top;\n",
       "    }\n",
       "\n",
       "    .dataframe thead th {\n",
       "        text-align: right;\n",
       "    }\n",
       "</style>\n",
       "<table border=\"1\" class=\"dataframe\">\n",
       "  <thead>\n",
       "    <tr style=\"text-align: right;\">\n",
       "      <th></th>\n",
       "      <th>customer_id</th>\n",
       "      <th>basket_date</th>\n",
       "      <th>sales</th>\n",
       "    </tr>\n",
       "  </thead>\n",
       "  <tbody>\n",
       "    <tr>\n",
       "      <th>0</th>\n",
       "      <td>17170040</td>\n",
       "      <td>2019-05-26</td>\n",
       "      <td>21.98</td>\n",
       "    </tr>\n",
       "    <tr>\n",
       "      <th>1</th>\n",
       "      <td>43762876</td>\n",
       "      <td>2019-06-10</td>\n",
       "      <td>125.97</td>\n",
       "    </tr>\n",
       "    <tr>\n",
       "      <th>2</th>\n",
       "      <td>33273585</td>\n",
       "      <td>2019-06-03</td>\n",
       "      <td>27.98</td>\n",
       "    </tr>\n",
       "    <tr>\n",
       "      <th>3</th>\n",
       "      <td>12173890</td>\n",
       "      <td>2019-06-15</td>\n",
       "      <td>54.95</td>\n",
       "    </tr>\n",
       "    <tr>\n",
       "      <th>4</th>\n",
       "      <td>6530798</td>\n",
       "      <td>2019-05-22</td>\n",
       "      <td>119.98</td>\n",
       "    </tr>\n",
       "  </tbody>\n",
       "</table>\n",
       "</div>"
      ],
      "text/plain": [
       "   customer_id basket_date   sales\n",
       "0     17170040  2019-05-26   21.98\n",
       "1     43762876  2019-06-10  125.97\n",
       "2     33273585  2019-06-03   27.98\n",
       "3     12173890  2019-06-15   54.95\n",
       "4      6530798  2019-05-22  119.98"
      ]
     },
     "execution_count": 182,
     "metadata": {},
     "output_type": "execute_result"
    }
   ],
   "source": [
    "df=client.query_df('select customer_id,basket_date,sumMerge(sales) as sales from sales_mv GROUP BY customer_id,basket_date')\n",
    "df.head()"
   ]
  },
  {
   "cell_type": "code",
   "execution_count": 134,
   "id": "caca3f33",
   "metadata": {},
   "outputs": [
    {
     "data": {
      "text/html": [
       "<div>\n",
       "<style scoped>\n",
       "    .dataframe tbody tr th:only-of-type {\n",
       "        vertical-align: middle;\n",
       "    }\n",
       "\n",
       "    .dataframe tbody tr th {\n",
       "        vertical-align: top;\n",
       "    }\n",
       "\n",
       "    .dataframe thead th {\n",
       "        text-align: right;\n",
       "    }\n",
       "</style>\n",
       "<table border=\"1\" class=\"dataframe\">\n",
       "  <thead>\n",
       "    <tr style=\"text-align: right;\">\n",
       "      <th></th>\n",
       "      <th>customer_id</th>\n",
       "      <th>basket_date</th>\n",
       "      <th>sales</th>\n",
       "    </tr>\n",
       "  </thead>\n",
       "  <tbody>\n",
       "    <tr>\n",
       "      <th>0</th>\n",
       "      <td>17170040</td>\n",
       "      <td>2019-05-26</td>\n",
       "      <td>21.98</td>\n",
       "    </tr>\n",
       "  </tbody>\n",
       "</table>\n",
       "</div>"
      ],
      "text/plain": [
       "   customer_id basket_date  sales\n",
       "0     17170040  2019-05-26  21.98"
      ]
     },
     "execution_count": 134,
     "metadata": {},
     "output_type": "execute_result"
    }
   ],
   "source": [
    "df[df[\"customer_id\"]==17170040]"
   ]
  },
  {
   "cell_type": "code",
   "execution_count": 196,
   "id": "2418e1d0",
   "metadata": {},
   "outputs": [],
   "source": [
    "grouped_by_customer=df.groupby(['customer_id'])['sales'].sum().to_frame()"
   ]
  },
  {
   "cell_type": "code",
   "execution_count": 197,
   "id": "2e0ecc64",
   "metadata": {},
   "outputs": [
    {
     "data": {
      "text/html": [
       "<div>\n",
       "<style scoped>\n",
       "    .dataframe tbody tr th:only-of-type {\n",
       "        vertical-align: middle;\n",
       "    }\n",
       "\n",
       "    .dataframe tbody tr th {\n",
       "        vertical-align: top;\n",
       "    }\n",
       "\n",
       "    .dataframe thead th {\n",
       "        text-align: right;\n",
       "    }\n",
       "</style>\n",
       "<table border=\"1\" class=\"dataframe\">\n",
       "  <thead>\n",
       "    <tr style=\"text-align: right;\">\n",
       "      <th></th>\n",
       "      <th>sales</th>\n",
       "    </tr>\n",
       "    <tr>\n",
       "      <th>customer_id</th>\n",
       "      <th></th>\n",
       "    </tr>\n",
       "  </thead>\n",
       "  <tbody>\n",
       "    <tr>\n",
       "      <th>4784</th>\n",
       "      <td>57.98</td>\n",
       "    </tr>\n",
       "    <tr>\n",
       "      <th>8314</th>\n",
       "      <td>129.95</td>\n",
       "    </tr>\n",
       "    <tr>\n",
       "      <th>8857</th>\n",
       "      <td>100.00</td>\n",
       "    </tr>\n",
       "    <tr>\n",
       "      <th>9273</th>\n",
       "      <td>109.98</td>\n",
       "    </tr>\n",
       "    <tr>\n",
       "      <th>11172</th>\n",
       "      <td>169.98</td>\n",
       "    </tr>\n",
       "    <tr>\n",
       "      <th>...</th>\n",
       "      <td>...</td>\n",
       "    </tr>\n",
       "    <tr>\n",
       "      <th>44460516</th>\n",
       "      <td>57.98</td>\n",
       "    </tr>\n",
       "    <tr>\n",
       "      <th>44461180</th>\n",
       "      <td>31.98</td>\n",
       "    </tr>\n",
       "    <tr>\n",
       "      <th>44473609</th>\n",
       "      <td>49.98</td>\n",
       "    </tr>\n",
       "    <tr>\n",
       "      <th>44486815</th>\n",
       "      <td>39.98</td>\n",
       "    </tr>\n",
       "    <tr>\n",
       "      <th>44608245</th>\n",
       "      <td>169.98</td>\n",
       "    </tr>\n",
       "  </tbody>\n",
       "</table>\n",
       "<p>13871 rows × 1 columns</p>\n",
       "</div>"
      ],
      "text/plain": [
       "              sales\n",
       "customer_id        \n",
       "4784          57.98\n",
       "8314         129.95\n",
       "8857         100.00\n",
       "9273         109.98\n",
       "11172        169.98\n",
       "...             ...\n",
       "44460516      57.98\n",
       "44461180      31.98\n",
       "44473609      49.98\n",
       "44486815      39.98\n",
       "44608245     169.98\n",
       "\n",
       "[13871 rows x 1 columns]"
      ]
     },
     "execution_count": 197,
     "metadata": {},
     "output_type": "execute_result"
    }
   ],
   "source": [
    "grouped_by_customer"
   ]
  },
  {
   "cell_type": "code",
   "execution_count": null,
   "id": "dfaecc4a",
   "metadata": {},
   "outputs": [],
   "source": []
  }
 ],
 "metadata": {
  "kernelspec": {
   "display_name": "Python 3 (ipykernel)",
   "language": "python",
   "name": "python3"
  },
  "language_info": {
   "codemirror_mode": {
    "name": "ipython",
    "version": 3
   },
   "file_extension": ".py",
   "mimetype": "text/x-python",
   "name": "python",
   "nbconvert_exporter": "python",
   "pygments_lexer": "ipython3",
   "version": "3.9.12"
  }
 },
 "nbformat": 4,
 "nbformat_minor": 5
}
